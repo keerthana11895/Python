{
 "cells": [
  {
   "cell_type": "code",
   "execution_count": 7,
   "id": "4eb96fba-59a9-4372-92e8-e5cd3d70b425",
   "metadata": {
    "scrolled": true
   },
   "outputs": [
    {
     "name": "stdout",
     "output_type": "stream",
     "text": [
      "correct\n"
     ]
    }
   ],
   "source": [
    "value=10\n",
    "if value==10:\n",
    "    print(\"correct\")"
   ]
  },
  {
   "cell_type": "code",
   "execution_count": 24,
   "id": "c37094da-cad6-475d-81c3-e02468a5bbc1",
   "metadata": {
    "scrolled": true
   },
   "outputs": [
    {
     "name": "stdin",
     "output_type": "stream",
     "text": [
      "Enter your password Hope@123\n"
     ]
    },
    {
     "name": "stdout",
     "output_type": "stream",
     "text": [
      "Your password is correct\n"
     ]
    }
   ],
   "source": [
    "password=input(\"Enter your password\")\n",
    "if password==(\"Hope@123\"):\n",
    "    print(\"Your password is correct\")\n",
    "else:\n",
    "    print(\"incorrect password\")"
   ]
  },
  {
   "cell_type": "code",
   "execution_count": 36,
   "id": "1f71297d-e9c1-423b-9e31-2dbaa1f6ed8f",
   "metadata": {
    "scrolled": true
   },
   "outputs": [
    {
     "name": "stdout",
     "output_type": "stream",
     "text": [
      "Adult\n"
     ]
    }
   ],
   "source": [
    "age=20\n",
    "if age<12:\n",
    "    print(\"children\")\n",
    "elif age<21:\n",
    "    print(\"Adult\")\n",
    "elif age<60:\n",
    "    print(\"Citizen\")\n",
    "else:\n",
    "    print(\"Senior Citizen\")"
   ]
  },
  {
   "cell_type": "code",
   "execution_count": 49,
   "id": "2e885a00-0390-4013-8eba-39e5ac05d87e",
   "metadata": {
    "scrolled": true
   },
   "outputs": [
    {
     "name": "stdin",
     "output_type": "stream",
     "text": [
      "Enter any number 1\n"
     ]
    },
    {
     "name": "stdout",
     "output_type": "stream",
     "text": [
      "Number is positive\n"
     ]
    }
   ],
   "source": [
    "num1=int(input(\"Enter any number\"))\n",
    "if num1>0:\n",
    "    print(\"Number is positive\")\n",
    "else num1<0:\n",
    "    print(\"Number is negative\")"
   ]
  },
  {
   "cell_type": "code",
   "execution_count": 67,
   "id": "fb3a701c-f5d6-44d8-bde4-1292bc240849",
   "metadata": {
    "scrolled": true
   },
   "outputs": [
    {
     "name": "stdin",
     "output_type": "stream",
     "text": [
      "Enter a number to check: 22\n"
     ]
    },
    {
     "name": "stdout",
     "output_type": "stream",
     "text": [
      "Number is not divisible by 5\n"
     ]
    }
   ],
   "source": [
    "num=int(input(\"Enter a number to check:\"))\n",
    "if num%5==0:\n",
    "        print(\"Number is divisible by 5:\")\n",
    "else:\n",
    "        print(\"Number is not divisible by 5\")\n"
   ]
  },
  {
   "cell_type": "code",
   "execution_count": null,
   "id": "1121b534-42ec-444d-aebe-96510adc06ad",
   "metadata": {},
   "outputs": [],
   "source": []
  },
  {
   "cell_type": "code",
   "execution_count": null,
   "id": "486957e8-4442-48a6-9d08-82206b16297a",
   "metadata": {},
   "outputs": [],
   "source": []
  }
 ],
 "metadata": {
  "kernelspec": {
   "display_name": "Python [conda env:base] *",
   "language": "python",
   "name": "conda-base-py"
  },
  "language_info": {
   "codemirror_mode": {
    "name": "ipython",
    "version": 3
   },
   "file_extension": ".py",
   "mimetype": "text/x-python",
   "name": "python",
   "nbconvert_exporter": "python",
   "pygments_lexer": "ipython3",
   "version": "3.12.7"
  }
 },
 "nbformat": 4,
 "nbformat_minor": 5
}
