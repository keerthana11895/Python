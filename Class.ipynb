{
 "cells": [
  {
   "cell_type": "code",
   "execution_count": 7,
   "id": "aa73b932-354e-4485-b04f-99a4f8c5dc1f",
   "metadata": {},
   "outputs": [
    {
     "name": "stdout",
     "output_type": "stream",
     "text": [
      "Sub-fields in AI are:\n",
      "Machine Learning\n",
      "Neural Networks\n",
      "Vision\n",
      "Robotics\n",
      "Speech Processing\n",
      "Natural Language Processing\n"
     ]
    }
   ],
   "source": [
    "class SubfieldsInAI:\n",
    "    def subfields():\n",
    "        print(\"Sub-fields in AI are:\")\n",
    "        print(\"Machine Learning\")\n",
    "        print(\"Neural Networks\")\n",
    "        print(\"Vision\")\n",
    "        print(\"Robotics\")\n",
    "        print(\"Speech Processing\")\n",
    "        print(\"Natural Language Processing\")\n",
    "    \n",
    "SubfieldsInAI.subfields()"
   ]
  },
  {
   "cell_type": "code",
   "execution_count": 37,
   "id": "cfdc3aca-9f6c-4af9-8596-33eb538ac1b0",
   "metadata": {},
   "outputs": [
    {
     "name": "stdin",
     "output_type": "stream",
     "text": [
      "Enter the number: 52452\n"
     ]
    },
    {
     "name": "stdout",
     "output_type": "stream",
     "text": [
      "52452 is even number\n"
     ]
    }
   ],
   "source": [
    "class oddeven:\n",
    "    def oddeven():\n",
    "        num=int(input(\"Enter the number:\"))\n",
    "        if num%2==0:\n",
    "            print(num, \"is even number\")\n",
    "        else:\n",
    "            print(num, \"is odd number\")\n",
    "\n",
    "oddeven.oddeven()"
   ]
  },
  {
   "cell_type": "code",
   "execution_count": 35,
   "id": "8a9ec09f-0653-4fcb-b791-1d1bbc7c217f",
   "metadata": {},
   "outputs": [
    {
     "name": "stdin",
     "output_type": "stream",
     "text": [
      "Your Gender Male\n",
      "Your Age 20\n"
     ]
    },
    {
     "name": "stdout",
     "output_type": "stream",
     "text": [
      "Not Eligible\n"
     ]
    }
   ],
   "source": [
    "class EligibilityForMarriage:\n",
    "    def Eligible():\n",
    "        gender=input(\"Your Gender\")\n",
    "        age=int(input(\"Your Age\"))\n",
    "        if gender==\"male\" and age>=21:\n",
    "            print(\"Eligible\")\n",
    "        elif gender==\"female\" and age>=18:\n",
    "            print(\"Eligible\")\n",
    "        else:\n",
    "            print(\"Not Eligible\")\n",
    "        \n",
    "\n",
    "EligibilityForMarriage.Eligible()"
   ]
  },
  {
   "cell_type": "code",
   "execution_count": 41,
   "id": "55560e10-67dd-4027-bdcd-3ad1861b0af0",
   "metadata": {},
   "outputs": [
    {
     "name": "stdin",
     "output_type": "stream",
     "text": [
      "subject1= 98\n",
      "subject2= 87\n",
      "subject3= 95\n",
      "subject4= 95\n",
      "subject5= 93\n"
     ]
    },
    {
     "name": "stdout",
     "output_type": "stream",
     "text": [
      "Total: 468\n",
      "Percentage: 93.60000000000001\n"
     ]
    }
   ],
   "source": [
    "class FindPercent:\n",
    "    def percentage():\n",
    "        subject1=int(input(\"subject1=\"))\n",
    "        subject2=int(input(\"subject2=\"))\n",
    "        subject3=int(input(\"subject3=\"))\n",
    "        subject4=int(input(\"subject4=\"))\n",
    "        subject5=int(input(\"subject5=\"))\n",
    "                 \n",
    "        Total=subject1+subject2+subject3+subject4+subject5\n",
    "        percent=(Total/500)*100\n",
    "        print(\"Total:\", Total)\n",
    "        print(\"Percentage:\", percent)\n",
    "\n",
    "FindPercent.percentage()"
   ]
  },
  {
   "cell_type": "code",
   "execution_count": 43,
   "id": "493efd94-8505-40af-94e5-2adea075cafb",
   "metadata": {},
   "outputs": [
    {
     "name": "stdin",
     "output_type": "stream",
     "text": [
      "height: 32\n",
      "breadth: 34\n"
     ]
    },
    {
     "name": "stdout",
     "output_type": "stream",
     "text": [
      "Area formula: (Height*Breadth)/2\n",
      "Area of triangle 544.0\n"
     ]
    },
    {
     "name": "stdin",
     "output_type": "stream",
     "text": [
      "height1: 2\n",
      "height2: 4\n",
      "breadth: 4\n"
     ]
    },
    {
     "name": "stdout",
     "output_type": "stream",
     "text": [
      "Perimeter formula: Height1+Height2+Breadth\n",
      "Perimeter of a triangle: 10\n"
     ]
    }
   ],
   "source": [
    "class Triangle:\n",
    "    def triangle():\n",
    "       #Area of a triangle\n",
    "        height=int(input(\"height:\"))\n",
    "        breadth=int(input(\"breadth:\"))\n",
    "        print(\"Area formula: (Height*Breadth)/2\")\n",
    "        area=(height*breadth)/2\n",
    "        print(\"Area of triangle\", area)\n",
    "        \n",
    "        #perimeter of a triangle\n",
    "        height1=int(input(\"height1:\"))\n",
    "        height2=int(input(\"height2:\"))\n",
    "        breadth=int(input(\"breadth:\"))\n",
    "        print(\"Perimeter formula: Height1+Height2+Breadth\")\n",
    "        perimeter=(height1+height2+breadth)\n",
    "        print(\"Perimeter of a triangle:\", perimeter)\n",
    "        \n",
    "Triangle.triangle()"
   ]
  },
  {
   "cell_type": "code",
   "execution_count": null,
   "id": "67b51d54-e7c4-4a66-a968-25780245b339",
   "metadata": {},
   "outputs": [],
   "source": []
  }
 ],
 "metadata": {
  "kernelspec": {
   "display_name": "Python [conda env:base] *",
   "language": "python",
   "name": "conda-base-py"
  },
  "language_info": {
   "codemirror_mode": {
    "name": "ipython",
    "version": 3
   },
   "file_extension": ".py",
   "mimetype": "text/x-python",
   "name": "python",
   "nbconvert_exporter": "python",
   "pygments_lexer": "ipython3",
   "version": "3.12.7"
  }
 },
 "nbformat": 4,
 "nbformat_minor": 5
}
