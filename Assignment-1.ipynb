{
 "cells": [
  {
   "cell_type": "code",
   "execution_count": 2,
   "id": "35c6b2a5-e60f-47c4-80a5-046390c1d2fa",
   "metadata": {},
   "outputs": [
    {
     "name": "stdout",
     "output_type": "stream",
     "text": [
      "Welcome to Assignment-1\n"
     ]
    }
   ],
   "source": [
    "print(\"Welcome to Assignment-1\")"
   ]
  },
  {
   "cell_type": "code",
   "execution_count": 4,
   "id": "9431002a-1445-4a15-9b53-2837947e4d2e",
   "metadata": {},
   "outputs": [
    {
     "name": "stdin",
     "output_type": "stream",
     "text": [
      "Num 1= 10\n"
     ]
    }
   ],
   "source": [
    "Num1=int(input(\"Num 1=\"))"
   ]
  },
  {
   "cell_type": "code",
   "execution_count": 6,
   "id": "db52933d-f783-436a-83e2-4911414ec4dc",
   "metadata": {},
   "outputs": [
    {
     "name": "stdin",
     "output_type": "stream",
     "text": [
      "Num 2= 30\n"
     ]
    }
   ],
   "source": [
    "Num2=int(input(\"Num 2=\"))"
   ]
  },
  {
   "cell_type": "code",
   "execution_count": 24,
   "id": "8af5255a-f566-471d-99a1-7d3f17af46cc",
   "metadata": {},
   "outputs": [
    {
     "name": "stdout",
     "output_type": "stream",
     "text": [
      "Add= 40\n"
     ]
    }
   ],
   "source": [
    "Add=Num1+Num2\n",
    "print(\"Add=\",Add)"
   ]
  },
  {
   "cell_type": "markdown",
   "id": "3c3ee51a-b37b-4762-b685-ace5757c4eea",
   "metadata": {},
   "source": [
    "## Bodymassindex"
   ]
  },
  {
   "cell_type": "code",
   "execution_count": 39,
   "id": "972941ce-9691-4979-b277-9ac97c3d4684",
   "metadata": {},
   "outputs": [
    {
     "name": "stdin",
     "output_type": "stream",
     "text": [
      "Enter the BMI Index: 34\n"
     ]
    },
    {
     "name": "stdout",
     "output_type": "stream",
     "text": [
      "very overweight\n"
     ]
    }
   ],
   "source": [
    "BMI=float(input(\"Enter the BMI Index:\"))\n",
    "if BMI<18.5:\n",
    "    print(\"underweight\")\n",
    "elif BMI<22:\n",
    "    print(\"Normal\")\n",
    "elif BMI<30:\n",
    "    print(\"over weight\")\n",
    "else:\n",
    "    print(\"very overweight\")"
   ]
  },
  {
   "cell_type": "code",
   "execution_count": null,
   "id": "a1b6fbf2-ba82-4f31-b6e3-0fa0a4ddc8de",
   "metadata": {},
   "outputs": [],
   "source": []
  }
 ],
 "metadata": {
  "kernelspec": {
   "display_name": "Python [conda env:base] *",
   "language": "python",
   "name": "conda-base-py"
  },
  "language_info": {
   "codemirror_mode": {
    "name": "ipython",
    "version": 3
   },
   "file_extension": ".py",
   "mimetype": "text/x-python",
   "name": "python",
   "nbconvert_exporter": "python",
   "pygments_lexer": "ipython3",
   "version": "3.12.7"
  }
 },
 "nbformat": 4,
 "nbformat_minor": 5
}
