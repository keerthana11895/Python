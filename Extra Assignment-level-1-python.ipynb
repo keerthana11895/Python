{
 "cells": [
  {
   "cell_type": "code",
   "execution_count": null,
   "id": "29050682-c82a-4b73-861e-d415b8c9fe1b",
   "metadata": {},
   "outputs": [],
   "source": [
    "Extra Assignment-level-1-python"
   ]
  },
  {
   "cell_type": "code",
   "execution_count": 4,
   "id": "af957f90-cd48-4cbb-8340-d15e7be04121",
   "metadata": {},
   "outputs": [
    {
     "name": "stdout",
     "output_type": "stream",
     "text": [
      "HOPE AI\n"
     ]
    }
   ],
   "source": [
    "print(\"HOPE AI\")"
   ]
  },
  {
   "cell_type": "code",
   "execution_count": 6,
   "id": "6b423f77-ad86-45ce-8bc5-a81b553b65fc",
   "metadata": {},
   "outputs": [
    {
     "name": "stdin",
     "output_type": "stream",
     "text": [
      "Enter your institute name: Hope AI\n"
     ]
    },
    {
     "name": "stdout",
     "output_type": "stream",
     "text": [
      "Hope AI\n"
     ]
    }
   ],
   "source": [
    "print(input(\"Enter your institute name:\"))"
   ]
  },
  {
   "cell_type": "code",
   "execution_count": 3,
   "id": "a348f3c5-9b8d-4f37-ba9b-890cb6269e0d",
   "metadata": {},
   "outputs": [
    {
     "name": "stdin",
     "output_type": "stream",
     "text": [
      "Enter your Name:  keerthana\n",
      "Enter your Age:  29\n",
      "Enter your School Name:  KKN\n",
      "Enter your Degree:  Msc\n"
     ]
    }
   ],
   "source": [
    "name = input(\"Enter your Name: \")\n",
    "age = input(\"Enter your Age: \")\n",
    "schoolname = input(\"Enter your School Name: \")\n",
    "degree = input(\"Enter your Degree: \")\n"
   ]
  },
  {
   "cell_type": "code",
   "execution_count": 56,
   "id": "c8ec607c-fd09-41cb-9ece-fc35903ac62b",
   "metadata": {},
   "outputs": [
    {
     "name": "stdin",
     "output_type": "stream",
     "text": [
      "a= 43\n",
      "b= 34\n"
     ]
    },
    {
     "name": "stdout",
     "output_type": "stream",
     "text": [
      "add= 77\n"
     ]
    }
   ],
   "source": [
    "num1=int(input(\"a=\"))\n",
    "num2=int(input(\"b=\"))\n",
    "add=num1+num2\n",
    "\n",
    "print(\"add=\", add)"
   ]
  },
  {
   "cell_type": "code",
   "execution_count": 58,
   "id": "7b645e1b-5ffd-4794-bd7a-505f1753d6a9",
   "metadata": {},
   "outputs": [
    {
     "name": "stdin",
     "output_type": "stream",
     "text": [
      "a= 43\n",
      "b= 34\n"
     ]
    },
    {
     "name": "stdout",
     "output_type": "stream",
     "text": [
      "sub= 9\n"
     ]
    }
   ],
   "source": [
    "num1=int(input(\"a=\"))\n",
    "num2=int(input(\"b=\"))\n",
    "sub=num1-num2\n",
    "\n",
    "print(\"sub=\", sub)"
   ]
  },
  {
   "cell_type": "code",
   "execution_count": 68,
   "id": "8cfc4a33-bb2b-435d-913d-42821b566a6f",
   "metadata": {},
   "outputs": [
    {
     "name": "stdin",
     "output_type": "stream",
     "text": [
      "a= 63\n",
      "b= 97\n"
     ]
    },
    {
     "name": "stdout",
     "output_type": "stream",
     "text": [
      "mul= 6111\n"
     ]
    }
   ],
   "source": [
    "num1=int(input(\"a=\"))\n",
    "num2=int(input(\"b=\"))\n",
    "mul=num1*num2\n",
    "\n",
    "print(\"mul=\", mul)"
   ]
  },
  {
   "cell_type": "code",
   "execution_count": 72,
   "id": "eb95ea1b-d024-49d8-bb30-537398ecd5bf",
   "metadata": {},
   "outputs": [
    {
     "name": "stdin",
     "output_type": "stream",
     "text": [
      "a= 76\n",
      "b= 31\n"
     ]
    },
    {
     "name": "stdout",
     "output_type": "stream",
     "text": [
      "Float div= 2.4516129032258065\n"
     ]
    }
   ],
   "source": [
    "num1=int(input(\"a=\"))\n",
    "num2=int(input(\"b=\"))\n",
    "div=num1/num2\n",
    "\n",
    "print(\"Float div=\", div)"
   ]
  },
  {
   "cell_type": "code",
   "execution_count": 76,
   "id": "d62ff4af-b0d6-4a33-9698-e3c4ca326ded",
   "metadata": {},
   "outputs": [
    {
     "name": "stdin",
     "output_type": "stream",
     "text": [
      "a= 76\n",
      "b= 31\n"
     ]
    },
    {
     "name": "stdout",
     "output_type": "stream",
     "text": [
      "Floor div= 2\n"
     ]
    }
   ],
   "source": [
    "num1=int(input(\"a=\"))\n",
    "num2=int(input(\"b=\"))\n",
    "div=num1//num2\n",
    "\n",
    "print(\"Floor div=\", div)"
   ]
  },
  {
   "cell_type": "code",
   "execution_count": 82,
   "id": "859f8fd2-ad61-4c9e-a7ea-350958a6f721",
   "metadata": {},
   "outputs": [
    {
     "name": "stdin",
     "output_type": "stream",
     "text": [
      "a= 76\n",
      "b= 31\n"
     ]
    },
    {
     "name": "stdout",
     "output_type": "stream",
     "text": [
      "mod 14\n"
     ]
    }
   ],
   "source": [
    "num1=int(input(\"a=\"))\n",
    "num2=int(input(\"b=\"))\n",
    "modulo=num1%num2\n",
    "\n",
    "print(\"mod\", modulo)"
   ]
  },
  {
   "cell_type": "code",
   "execution_count": 86,
   "id": "fc535791-aea1-4053-9742-c116c7853cdb",
   "metadata": {},
   "outputs": [
    {
     "name": "stdin",
     "output_type": "stream",
     "text": [
      "a= 4\n",
      "b= 4\n"
     ]
    },
    {
     "name": "stdout",
     "output_type": "stream",
     "text": [
      "power 256\n"
     ]
    }
   ],
   "source": [
    "num1=int(input(\"a=\"))\n",
    "num2=int(input(\"b=\"))\n",
    "power=num1**num2\n",
    "\n",
    "print(\"power\", power)"
   ]
  },
  {
   "cell_type": "code",
   "execution_count": null,
   "id": "6a2f212e-3880-4e96-b576-68ed39724459",
   "metadata": {},
   "outputs": [],
   "source": []
  },
  {
   "cell_type": "code",
   "execution_count": null,
   "id": "7c802d41-7005-46d5-b4f2-5ca8f121ed1f",
   "metadata": {},
   "outputs": [],
   "source": []
  }
 ],
 "metadata": {
  "kernelspec": {
   "display_name": "Python [conda env:base] *",
   "language": "python",
   "name": "conda-base-py"
  },
  "language_info": {
   "codemirror_mode": {
    "name": "ipython",
    "version": 3
   },
   "file_extension": ".py",
   "mimetype": "text/x-python",
   "name": "python",
   "nbconvert_exporter": "python",
   "pygments_lexer": "ipython3",
   "version": "3.12.7"
  }
 },
 "nbformat": 4,
 "nbformat_minor": 5
}
